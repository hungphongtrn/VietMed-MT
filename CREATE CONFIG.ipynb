{
 "cells": [
  {
   "cell_type": "code",
   "execution_count": 1,
   "metadata": {},
   "outputs": [],
   "source": [
    "import os\n",
    "\n",
    "for file in os.listdir('.'):\n",
    "    if file.endswith('.yaml'):\n",
    "        with open(file) as f:\n",
    "            cont = f.read()\n",
    "        new_cont = cont.replace(\"VietAI/envit5-translation\", \"VietAI/envit5-base\")\n",
    "        # save the file\n",
    "        new_name = file.replace(\"translation\", \"base\")\n",
    "        with open(new_name, 'w') as f:\n",
    "            f.write(new_cont)\n",
    "        "
   ]
  },
  {
   "cell_type": "code",
   "execution_count": null,
   "metadata": {},
   "outputs": [],
   "source": []
  }
 ],
 "metadata": {
  "kernelspec": {
   "display_name": "Python 3",
   "language": "python",
   "name": "python3"
  },
  "language_info": {
   "codemirror_mode": {
    "name": "ipython",
    "version": 3
   },
   "file_extension": ".py",
   "mimetype": "text/x-python",
   "name": "python",
   "nbconvert_exporter": "python",
   "pygments_lexer": "ipython3",
   "version": "3.12.1"
  }
 },
 "nbformat": 4,
 "nbformat_minor": 2
}
